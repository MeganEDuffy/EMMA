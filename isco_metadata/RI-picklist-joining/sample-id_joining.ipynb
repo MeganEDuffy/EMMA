{
 "cells": [
  {
   "cell_type": "code",
   "execution_count": 1,
   "id": "a387ec42",
   "metadata": {},
   "outputs": [
    {
     "name": "stdout",
     "output_type": "stream",
     "text": [
      "           Bag #\n",
      "RI24-ID         \n",
      "RI24-1001   28.0\n",
      "RI24-1003   28.0\n",
      "RI24-1006   28.0\n",
      "RI24-1008    NaN\n",
      "RI24-1009    NaN\n",
      "...          ...\n",
      "RI24-1420    1.0\n",
      "RI24-1421    1.0\n",
      "RI24-1422    1.0\n",
      "RI24-1423    1.0\n",
      "RI24-1424    NaN\n",
      "\n",
      "[193 rows x 1 columns]\n"
     ]
    }
   ],
   "source": [
    "import pandas as pd\n",
    "\n",
    "# Read CSV files with the first column as the index\n",
    "df_A = pd.read_csv('RI24-PES-IC-ICP-pick-list.csv', index_col='RI24-ID')\n",
    "df_B = pd.read_csv('RI24-PES-freezer-inv.csv', index_col='RI24-ID')\n",
    "\n",
    "# Join the dataframes on the index\n",
    "df_joined = df_A.join(df_B, how='left')  # Use 'left' join to keep all entries from df_A\n",
    "\n",
    "# Alternatively, you can use merge:\n",
    "# df_joined = df_A.merge(df_B, left_index=True, right_index=True, how='left')\n",
    "\n",
    "# Save the joined dataframe to a new CSV file (optional)\n",
    "df_joined.to_csv('RI24-PES-IC-ICP-pick_joined_output.csv')\n",
    "\n",
    "print(df_joined)"
   ]
  },
  {
   "cell_type": "code",
   "execution_count": null,
   "id": "8e6d1321",
   "metadata": {},
   "outputs": [],
   "source": []
  }
 ],
 "metadata": {
  "kernelspec": {
   "display_name": "geo_env",
   "language": "python",
   "name": "geo_env"
  },
  "language_info": {
   "codemirror_mode": {
    "name": "ipython",
    "version": 3
   },
   "file_extension": ".py",
   "mimetype": "text/x-python",
   "name": "python",
   "nbconvert_exporter": "python",
   "pygments_lexer": "ipython3",
   "version": "3.10.6"
  }
 },
 "nbformat": 4,
 "nbformat_minor": 5
}
