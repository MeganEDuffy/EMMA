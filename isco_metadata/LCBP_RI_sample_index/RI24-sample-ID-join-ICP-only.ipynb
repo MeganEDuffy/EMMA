{
 "cells": [
  {
   "cell_type": "markdown",
   "id": "16e22058",
   "metadata": {},
   "source": [
    "## Joining RI24 series ICP-OES data\n",
    "\n",
    "### - All data from Sharepoint Winter Watershed EMMA directory: https://uvmoffice.sharepoint.com/:f:/s/Winterwatershed/Em7xsXZomnFJvPg3qm5bpqcB0INgFeGMeJ8m_HdQfwu6Yg?e=9k32Up\n",
    "\n",
    "### Sample chemistry from LCBP-EMMA/ICPOES\n",
    "- UVM Ag Lab ICPOES data:\n",
    "        - A csv with merged UVM RI24 ICP-OES data from multiple runs on a PerkinElmer Optima 7000DV.\n",
    "        - Al, Ca, Cu, Fe, K, Mg, Mn, Na, P, Si, Zn\n",
    "        \n",
    "- LCBP_RI23_icpoes-for-join.csv\n",
    "        - A csv with merged Dartmouth RI24 ICP-OES data from multiple runs on a Spectro ARCOS operated in axial view.\n",
    "        - Al, As, Ba, Be, Br, Ca, Cd, Cl, Co, Cr, Cu, Fe, I, K, Li, Mg, Mn, Na, Ni, P, Pb, S, Si, Sr, Ti, V, Zn (not all in summary)"
   ]
  },
  {
   "cell_type": "code",
   "execution_count": 35,
   "id": "e68b2742",
   "metadata": {
    "scrolled": true
   },
   "outputs": [
    {
     "name": "stdout",
     "output_type": "stream",
     "text": [
      "LCBP_RI24-ICP-for-join.csv\n",
      "LCBP_RI24-ICPOES-Dartmouth-March2025-June2025.csv\n",
      "LCBP_RI24-ICPOES-merged-UVMAgLab.csv\n"
     ]
    }
   ],
   "source": [
    "import os\n",
    "os.chdir(\"/home/millieginty/OneDrive/git-repos/EMMA/data/newrnet-chemistry/RI24/ICPOES/\")\n",
    "\n",
    "!ls"
   ]
  },
  {
   "cell_type": "code",
   "execution_count": 36,
   "id": "e3c41fd1-6b65-4b80-b8ab-a2373676276e",
   "metadata": {},
   "outputs": [
    {
     "name": "stdout",
     "output_type": "stream",
     "text": [
      "No overlapping Sample IDs found.\n",
      "   Sample ID              ICPOES-notes-MED   Al_mg_L   Ba_mg_L   Ca_mg_L  \\\n",
      "0  RI24-1001  DartmouthID_duffy-030625-001  0.037672  0.003183  3.045061   \n",
      "1  RI24-1002  DartmouthID_duffy-030625-002  0.026739  0.003092  3.063053   \n",
      "2  RI24-1003  DartmouthID_duffy-030625-003  0.031394  0.002785  3.077050   \n",
      "3  RI24-1004  DartmouthID_duffy-030625-004  0.034951  0.002742  3.127813   \n",
      "4  RI24-1005  DartmouthID_duffy-030625-005  0.035640  0.002747  3.189687   \n",
      "\n",
      "    Fe_mg_L    K_mg_L   Mg_mg_L   Mn_mg_L   Na_mg_L    P_mg_L    S_mg_L  \\\n",
      "0  0.024847  0.162434  0.436963  0.005938  0.495754  0.002390  0.827794   \n",
      "1  0.020288  0.172870  0.438012  0.005298  0.479873  0.002872  0.847052   \n",
      "2  0.021433  0.133111  0.441800  0.003858  0.523873  0.004211  0.854399   \n",
      "3  0.020748  0.151967  0.450640  0.003541  0.547715  0.001425  0.865910   \n",
      "4  0.022054  0.125264  0.464699  0.004125  0.603753  0.001874  0.909064   \n",
      "\n",
      "    Si_mg_L   Sr_mg_L   Zn_mg_L  Cu_mg_L  \n",
      "0  2.582697  0.018898  0.009258      NaN  \n",
      "1  2.700515  0.019062  0.004681      NaN  \n",
      "2  2.496641  0.018988  0.011949      NaN  \n",
      "3  2.971374  0.019264  0.005214      NaN  \n",
      "4  2.854575  0.019634  0.007887      NaN  \n"
     ]
    }
   ],
   "source": [
    "import pandas as pd\n",
    "\n",
    "# Read CSV files with the 'Sample ID' column as the index\n",
    "df_dart = pd.read_csv('LCBP_RI24-ICPOES-Dartmouth-March2025-June2025.csv')\n",
    "df_uvm = pd.read_csv('LCBP_RI24-ICPOES-merged-UVMAgLab.csv')\n",
    "\n",
    "# -------------------------\n",
    "# 1. Check for overlap in Sample ID\n",
    "# -------------------------\n",
    "overlap = set(df_dart[\"Sample ID\"]).intersection(set(df_uvm[\"Sample ID\"]))\n",
    "if overlap:\n",
    "    print(\"Overlapping Sample IDs found:\", overlap)\n",
    "else:\n",
    "    print(\"No overlapping Sample IDs found.\")\n",
    "\n",
    "# MED note: originally the Sample ID overlap was 2: RI24-1267 and RI24-1268. I removed the UVMAgLab values from their csv and kept the Dartmouth\n",
    "\n",
    "# -------------------------\n",
    "# 2. Merge into a single dataframe\n",
    "# -------------------------\n",
    "# Drop metadata-only columns before merging\n",
    "df_dart_clean = df_dart.drop(columns=[\"Landis Sample ID\"], errors=\"ignore\")\n",
    "df_uvm_clean = df_uvm.drop(columns=[\"UVM-AgLab-ICP-notes-MED\"], errors=\"ignore\")\n",
    "\n",
    "# -------------------------\n",
    "# 2.1 Rename metadata columns\n",
    "# -------------------------\n",
    "df_dart = df_dart.rename(columns={\"Landis Sample ID\": \"ICPOES-notes-MED\"})\n",
    "df_uvm = df_uvm.rename(columns={\"UVM-AgLab-ICP-notes-MED\": \"ICPOES-notes-MED\"})\n",
    "\n",
    "# -------------------------\n",
    "# 2.2 Merge into a single dataframe\n",
    "# -------------------------\n",
    "df_merged = pd.concat([df_dart, df_uvm], ignore_index=True)\n",
    "\n",
    "# Save the joined dataframe to a new CSV file\n",
    "df_merged.to_csv('LCBP_RI24-ICP-for-join.csv', index=False)\n",
    "\n",
    "# Inspect result\n",
    "print(df_merged.head())"
   ]
  },
  {
   "cell_type": "code",
   "execution_count": null,
   "id": "bd799a59-b50f-4773-87a1-608b5eb00ddc",
   "metadata": {},
   "outputs": [],
   "source": []
  }
 ],
 "metadata": {
  "kernelspec": {
   "display_name": "Python 3 (ipykernel)",
   "language": "python",
   "name": "python3"
  },
  "language_info": {
   "codemirror_mode": {
    "name": "ipython",
    "version": 3
   },
   "file_extension": ".py",
   "mimetype": "text/x-python",
   "name": "python",
   "nbconvert_exporter": "python",
   "pygments_lexer": "ipython3",
   "version": "3.13.2"
  }
 },
 "nbformat": 4,
 "nbformat_minor": 5
}
