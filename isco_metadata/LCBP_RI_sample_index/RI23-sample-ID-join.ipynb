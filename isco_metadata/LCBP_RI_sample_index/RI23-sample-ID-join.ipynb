{
 "cells": [
  {
   "cell_type": "markdown",
   "id": "affb8cba",
   "metadata": {},
   "source": [
    "## Joining RI23 series sample IDs to ICPOES, IC, and stable isotope data"
   ]
  },
  {
   "cell_type": "code",
   "execution_count": 10,
   "id": "0e21ab7e",
   "metadata": {
    "scrolled": true
   },
   "outputs": [
    {
     "name": "stdout",
     "output_type": "stream",
     "text": [
      "LCBP_RI23_ic-for-join.csv       LCBP_RI23_sample-index-for-join.csv\r\n",
      "LCBP_RI23_icpoes-for-join.csv   RI23-sample-ID-join.ipynb\r\n",
      "LCBP_RI23_isotope-for-join.csv\r\n"
     ]
    }
   ],
   "source": [
    "ls"
   ]
  },
  {
   "cell_type": "code",
   "execution_count": 11,
   "id": "5871da1f",
   "metadata": {},
   "outputs": [
    {
     "ename": "TypeError",
     "evalue": "'DataFrame' object is not callable",
     "output_type": "error",
     "traceback": [
      "\u001b[0;31m---------------------------------------------------------------------------\u001b[0m",
      "\u001b[0;31mTypeError\u001b[0m                                 Traceback (most recent call last)",
      "Cell \u001b[0;32mIn [11], line 11\u001b[0m\n\u001b[1;32m      5\u001b[0m df_iso \u001b[38;5;241m=\u001b[39m pd\u001b[38;5;241m.\u001b[39mread_csv(\u001b[38;5;124m'\u001b[39m\u001b[38;5;124mLCBP_RI23_isotope-for-join.csv\u001b[39m\u001b[38;5;124m'\u001b[39m, index_col\u001b[38;5;241m=\u001b[39m\u001b[38;5;124m'\u001b[39m\u001b[38;5;124mSample ID\u001b[39m\u001b[38;5;124m'\u001b[39m)\n\u001b[1;32m      7\u001b[0m \u001b[38;5;66;03m# Join the dataframes on the index\u001b[39;00m\n\u001b[1;32m      8\u001b[0m \u001b[38;5;66;03m#df_joined = df_index.join(df_iso, how='left')  # Use 'left' join to keep all entries from df_A\u001b[39;00m\n\u001b[1;32m      9\u001b[0m \n\u001b[1;32m     10\u001b[0m \u001b[38;5;66;03m# Alternatively, you can use merge:\u001b[39;00m\n\u001b[0;32m---> 11\u001b[0m df_joined \u001b[38;5;241m=\u001b[39m \u001b[43mdf_index\u001b[49m\u001b[43m(\u001b[49m\u001b[43mdf_iso\u001b[49m\u001b[43m,\u001b[49m\u001b[43m \u001b[49m\u001b[43mleft_index\u001b[49m\u001b[38;5;241;43m=\u001b[39;49m\u001b[38;5;28;43;01mTrue\u001b[39;49;00m\u001b[43m,\u001b[49m\u001b[43m \u001b[49m\u001b[43mright_index\u001b[49m\u001b[38;5;241;43m=\u001b[39;49m\u001b[38;5;28;43;01mTrue\u001b[39;49;00m\u001b[43m,\u001b[49m\u001b[43m \u001b[49m\u001b[43mhow\u001b[49m\u001b[38;5;241;43m=\u001b[39;49m\u001b[38;5;124;43m'\u001b[39;49m\u001b[38;5;124;43mleft\u001b[39;49m\u001b[38;5;124;43m'\u001b[39;49m\u001b[43m)\u001b[49m\n\u001b[1;32m     13\u001b[0m \u001b[38;5;66;03m# Save the joined dataframe to a new CSV file\u001b[39;00m\n\u001b[1;32m     14\u001b[0m \u001b[38;5;66;03m#df_joined.to_csv('RI24-PES-IC-ICP-pick_joined_output.csv')\u001b[39;00m\n\u001b[1;32m     15\u001b[0m \n\u001b[1;32m     16\u001b[0m \u001b[38;5;66;03m#print(df_joined)\u001b[39;00m\n\u001b[1;32m     17\u001b[0m df_index\n",
      "\u001b[0;31mTypeError\u001b[0m: 'DataFrame' object is not callable"
     ]
    }
   ],
   "source": [
    "import pandas as pd\n",
    "\n",
    "# Read CSV files with the first column as the index\n",
    "df_index = pd.read_csv('LCBP_RI23_sample-index-for-join.csv', index_col='Sample ID')\n",
    "df_iso = pd.read_csv('LCBP_RI23_isotope-for-join.csv', index_col='Sample ID')\n",
    "\n",
    "# Join the dataframes on the index\n",
    "#df_joined = df_index.join(df_iso, how='left')  # Use 'left' join to keep all entries from df_A\n",
    "\n",
    "# Alternatively, you can use merge:\n",
    "df_joined = df_index(df_iso, left_index=True, right_index=True, how='left')\n",
    "\n",
    "# Save the joined dataframe to a new CSV file\n",
    "#df_joined.to_csv('RI24-PES-IC-ICP-pick_joined_output.csv')\n",
    "\n",
    "#print(df_joined)\n",
    "df_index"
   ]
  },
  {
   "cell_type": "code",
   "execution_count": null,
   "id": "b11dddea",
   "metadata": {},
   "outputs": [],
   "source": []
  }
 ],
 "metadata": {
  "kernelspec": {
   "display_name": "Python 3 (ipykernel)",
   "language": "python",
   "name": "python3"
  },
  "language_info": {
   "codemirror_mode": {
    "name": "ipython",
    "version": 3
   },
   "file_extension": ".py",
   "mimetype": "text/x-python",
   "name": "python",
   "nbconvert_exporter": "python",
   "pygments_lexer": "ipython3",
   "version": "3.10.6"
  }
 },
 "nbformat": 4,
 "nbformat_minor": 5
}
