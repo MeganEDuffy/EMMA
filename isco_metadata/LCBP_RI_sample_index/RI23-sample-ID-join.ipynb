{
 "cells": [
  {
   "cell_type": "markdown",
   "id": "16e22058",
   "metadata": {},
   "source": [
    "## Joining RI23 series sample IDs to ICPOES, IC, and stable isotope data"
   ]
  },
  {
   "cell_type": "code",
   "execution_count": 14,
   "id": "e68b2742",
   "metadata": {
    "scrolled": true
   },
   "outputs": [
    {
     "name": "stdout",
     "output_type": "stream",
     "text": [
      "LCBP_RI23_ic-for-join.csv       LCBP_RI23_sample-index-for-join.csv\r\n",
      "LCBP_RI23_icpoes-for-join.csv   RI23-sample-ID-join.ipynb\r\n",
      "LCBP_RI23_isotope-for-join.csv\r\n"
     ]
    }
   ],
   "source": [
    "ls"
   ]
  },
  {
   "cell_type": "code",
   "execution_count": 20,
   "id": "904b77f1",
   "metadata": {},
   "outputs": [
    {
     "name": "stdout",
     "output_type": "stream",
     "text": [
      "                 Site        Date         Time                  Type  \\\n",
      "Sample ID                                                              \n",
      "ISO23-110        Wade  04/12/2023  12:00:00 PM                    DM   \n",
      "ISO23-113  Hungerford  04/12/2023  12:00:00 PM                    DM   \n",
      "ISO23-159  Hungerford  02/22/2023  01:15:00 PM                  Grab   \n",
      "ISO23-160        Wade  02/22/2023  11:30:00 AM                  Grab   \n",
      "ISO23-161  Hungerford  01/04/2023  12:00:00 PM  Soil water lysimeter   \n",
      "\n",
      "            Index-notes ICP-notes  Fe_mg_L  Mn_mg_L  Cu_mg_L  Zn_mg_L  ...  \\\n",
      "Sample ID                                                              ...   \n",
      "ISO23-110           NaN       NaN      NaN      NaN      NaN      NaN  ...   \n",
      "ISO23-113           NaN       NaN      NaN      NaN      NaN      NaN  ...   \n",
      "ISO23-159           NaN       NaN      NaN      NaN      NaN      NaN  ...   \n",
      "ISO23-160           NaN       NaN      NaN      NaN      NaN      NaN  ...   \n",
      "ISO23-161  Wet Soil Lys       NaN      NaN      NaN      NaN      NaN  ...   \n",
      "\n",
      "           NO2_mg_L  Br_mg_L  NO3_mg_L  PO4_mg_L  SO4_mg_L  IC-notes  \\\n",
      "Sample ID                                                              \n",
      "ISO23-110       NaN      NaN       NaN       NaN       NaN       NaN   \n",
      "ISO23-113       NaN      NaN       NaN       NaN       NaN       NaN   \n",
      "ISO23-159       NaN      NaN       NaN       NaN       NaN       NaN   \n",
      "ISO23-160       NaN      NaN       NaN       NaN       NaN       NaN   \n",
      "ISO23-161       NaN      NaN       NaN       NaN       NaN       NaN   \n",
      "\n",
      "           NRS_LWIA_notes      dD    d18O     iso-notes  \n",
      "Sample ID                                                \n",
      "ISO23-110             NaN -91.165 -13.372           NaN  \n",
      "ISO23-113             NaN -79.702 -11.813           NaN  \n",
      "ISO23-159             NaN -68.854  -9.698           NaN  \n",
      "ISO23-160             NaN -78.887 -11.042           NaN  \n",
      "ISO23-161             NaN -65.565  -9.298  Wet Soil Lys  \n",
      "\n",
      "[5 rows x 29 columns]\n"
     ]
    }
   ],
   "source": [
    "import pandas as pd\n",
    "\n",
    "# Read CSV files with the 'Sample ID' column as the index\n",
    "df_index = pd.read_csv('LCBP_RI23_sample-index-for-join.csv', index_col='Sample ID')\n",
    "df_icpoes = pd.read_csv('LCBP_RI23_icpoes-for-join.csv', index_col='Sample ID')\n",
    "df_ic = pd.read_csv('LCBP_RI23_ic-for-join.csv', index_col='Sample ID')\n",
    "df_iso = pd.read_csv('LCBP_RI23_isotope-for-join.csv', index_col='Sample ID')\n",
    "\n",
    "# Join the dataframes on the index ('Sample ID')\n",
    "df_joined = df_index.merge(df_icpoes, left_index=True, right_index=True, how='left')\n",
    "df_joined = df_joined.merge(df_ic, left_index=True, right_index=True, how='left')\n",
    "df_joined = df_joined.merge(df_iso, left_index=True, right_index=True, how='left')\n",
    "\n",
    "# Save the joined dataframe to a new CSV file\n",
    "df_joined.to_csv('RI23-IC-ICP-isotope-joined.csv')\n",
    "\n",
    "# Print the first few rows of the joined dataframe\n",
    "print(df_joined.head())"
   ]
  },
  {
   "cell_type": "code",
   "execution_count": null,
   "id": "698a260a",
   "metadata": {},
   "outputs": [],
   "source": []
  }
 ],
 "metadata": {
  "kernelspec": {
   "display_name": "Python 3 (ipykernel)",
   "language": "python",
   "name": "python3"
  },
  "language_info": {
   "codemirror_mode": {
    "name": "ipython",
    "version": 3
   },
   "file_extension": ".py",
   "mimetype": "text/x-python",
   "name": "python",
   "nbconvert_exporter": "python",
   "pygments_lexer": "ipython3",
   "version": "3.10.6"
  }
 },
 "nbformat": 4,
 "nbformat_minor": 5
}
