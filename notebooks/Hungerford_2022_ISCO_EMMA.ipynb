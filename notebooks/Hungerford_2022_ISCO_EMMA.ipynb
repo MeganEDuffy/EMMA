{
 "cells": [
  {
   "cell_type": "markdown",
   "metadata": {},
   "source": [
    "## End member mixing analysis (EMMA) to determine streamflow source contributions\n",
    "\n",
    "### Finally running an EMMA using linear regression.​\n",
    "\n",
    "#### Here we started with solute data from Hungerford Brook late winter/early spring flow events captured with ISCOs. Data include:\n",
    "- ICP-OES (Al, Ca, Cu, Fe, K, Mg, Mn, Na, P, Zn, Si\n",
    "- IC and total elemental analyser data (Cl, SO4, NO3, PO4, TOC, DIN)\n",
    "- Stable isotopes (dD, d18O)\n",
    "\n",
    "Data are from the BREE OneDrive directory (Watershed Data>1_Projects>EMMA>Working file for MATLAB 2023)\n",
    "\n",
    "- For HB 2022 timeseries, 17 parameters total\n",
    "- 5 were found to be relatively conservative: Cl, Ca, Na, Si, and Mg\n",
    "- See \"bivariates\" notebook for those plots\n",
    "\n",
    "This code does a linear regression to estimate the contributions of each endmember to the observed streamflow concentrations during the specific storm events."
   ]
  },
  {
   "cell_type": "code",
   "execution_count": 30,
   "metadata": {},
   "outputs": [],
   "source": [
    "import os\n",
    "os.chdir(\"/home/millieginty/Documents/git-repos/EMMA/\")"
   ]
  },
  {
   "cell_type": "code",
   "execution_count": 31,
   "metadata": {},
   "outputs": [],
   "source": [
    "import pandas as pd\n",
    "import matplotlib.pyplot as plt\n",
    "from sklearn.decomposition import PCA\n",
    "from sklearn.preprocessing import StandardScaler\n",
    "from sklearn.linear_model import LinearRegression\n",
    "from matplotlib.path import Path\n",
    "import numpy as np\n",
    "\n",
    "# Load streamflow data with PCA results\n",
    "\n",
    "streamwater_data = pd.read_csv(\"data/Data_for_EMMA_2022_HB.csv\")\n",
    "pca_results = pd.read_csv(\"analysis/pca_result_streamwater.csv\")\n",
    "endmember_data = pd.read_csv(\"data/end_members_2022_HB_mean_for_emma.csv\")\n",
    "\n",
    "# Convert the 'Date' column to datetime\n",
    "streamwater_data['Date'] = pd.to_datetime(streamwater_data['Date'], format='%m/%d/%y')\n",
    "\n",
    "# Subset data for each storm event\n",
    "event_A_data = streamwater_data[(streamwater_data['Date'] >= '2022-02-16') & (streamwater_data['Date'] <= '2022-02-23')]\n",
    "event_B_data = streamwater_data[(streamwater_data['Date'] >= '2022-03-05') & (streamwater_data['Date'] <= '2022-03-10')]\n",
    "event_C_data = streamwater_data[(streamwater_data['Date'] >= '2022-03-16') & (streamwater_data['Date'] <= '2022-03-22')]\n",
    "event_D_data = streamwater_data[(streamwater_data['Date'] >= '2022-04-07') & (streamwater_data['Date'] <= '2022-04-11')]\n",
    "\n",
    "# Select the specific parameters of interest\n",
    "selected_parameters = ['Ca_mg_L', 'Cl_mg_L', 'Si_mg_L', 'Na_mg_L', 'Mg_mg_L']\n",
    "\n",
    "# Linear regression\n",
    "\n",
    "def calculate_contributions(event_data, pca_results, endmember_data):\n",
    "    # Extract relevant PCA results for the event\n",
    "    event_pca = pca_results.loc[event_data.index]\n",
    "\n",
    "    # Standardize the endmember data\n",
    "    scaler = StandardScaler()\n",
    "    scaled_endmembers = scaler.fit_transform(endmember_data[selected_parameters])\n",
    "\n",
    "    # Fit linear regression model\n",
    "    model = LinearRegression()\n",
    "    model.fit(scaled_endmembers, event_data[selected_parameters])\n",
    "\n",
    "    # Get coefficients as contributions\n",
    "    contributions = model.coef_\n",
    "\n",
    "    return contributions\n",
    "\n",
    "# Calculate contributions for each event\n",
    "contributions_A = calculate_contributions(event_A_data, pca_results, endmember_data)\n",
    "contributions_B = calculate_contributions(event_B_data, pca_results, endmember_data)\n",
    "contributions_C = calculate_contributions(event_C_data, pca_results, endmember_data)\n",
    "contributions_D = calculate_contributions(event_D_data, pca_results, endmember_data)"
   ]
  },
  {
   "cell_type": "markdown",
   "metadata": {},
   "source": [
    "Now we want to use an optimization approach to solve for the contribution fraction matrix, F, and minimize the difference between the observed mixture and the modeled mixture. We will minimize the sum of squared residuals. In a least squares sense, this looks like:\n",
    "\n",
    "minimize∣∣O−E⋅F∣∣<sup>2</sup>"
   ]
  },
  {
   "cell_type": "code",
   "execution_count": null,
   "metadata": {},
   "outputs": [],
   "source": [
    "import numpy as np\n",
    "from scipy.optimize import minimize\n",
    "\n",
    "# Assuming you have your observed mixture (O), endmember matrix (E), and initial guess for fractions (F)\n",
    "O = np.array([...])  # Your observed mixture vector\n",
    "E = np.array([...])  # Your endmember matrix\n",
    "F_initial_guess = np.array([...])  # Your initial guess for fractions\n",
    "\n",
    "# Define the objective function (sum of squared residuals)\n",
    "def objective_function(F):\n",
    "    return np.sum((O - np.dot(E, F))**2)\n",
    "\n",
    "# Define constraints (fractions should be >= 0 and sum to 1)\n",
    "constraints = ({'type': 'ineq', 'fun': lambda F: F},\n",
    "               {'type': 'eq', 'fun': lambda F: np.sum(F) - 1})\n",
    "\n",
    "# Solve the optimization problem\n",
    "result = minimize(objective_function, F_initial_guess, constraints=constraints)\n",
    "\n",
    "# The result.x contains the optimal fractions\n",
    "optimal_fractions = result.x"
   ]
  }
 ],
 "metadata": {
  "kernelspec": {
   "display_name": "Python 3",
   "language": "python",
   "name": "python3"
  },
  "language_info": {
   "codemirror_mode": {
    "name": "ipython",
    "version": 3
   },
   "file_extension": ".py",
   "mimetype": "text/x-python",
   "name": "python",
   "nbconvert_exporter": "python",
   "pygments_lexer": "ipython3",
   "version": "3.8.3"
  }
 },
 "nbformat": 4,
 "nbformat_minor": 4
}
